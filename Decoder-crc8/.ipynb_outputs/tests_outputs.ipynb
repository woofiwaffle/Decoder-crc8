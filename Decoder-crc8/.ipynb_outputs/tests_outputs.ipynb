{
 "cells": [
  {
   "metadata": {},
   "cell_type": "markdown",
   "source": "# Вывод unittest'a",
   "id": "a5f8452a66ba110e"
  },
  {
   "metadata": {
    "ExecuteTime": {
     "end_time": "2024-06-20T17:21:18.911893Z",
     "start_time": "2024-06-20T17:21:18.891686Z"
    }
   },
   "cell_type": "code",
   "source": [
    "import unittest \n",
    "import tests.test_decoder\n",
    "\n",
    "loader = unittest.TestLoader() \n",
    "suite = loader.loadTestsFromModule(tests.test_decoder)\n",
    "\n",
    "runner = unittest.TextTestRunner() \n",
    "runner = runner.run(suite)"
   ],
   "id": "aa6f586d99fbb1c0",
   "outputs": [
    {
     "name": "stderr",
     "output_type": "stream",
     "text": [
      "......\n",
      "----------------------------------------------------------------------\n",
      "Ran 6 tests in 0.006s\n",
      "\n",
      "OK\n"
     ]
    }
   ],
   "execution_count": 1
  },
  {
   "metadata": {},
   "cell_type": "markdown",
   "source": "# Создание рабочего пространства",
   "id": "b638100e8a3aac0a"
  },
  {
   "metadata": {
    "ExecuteTime": {
     "end_time": "2024-06-20T17:21:21.172489Z",
     "start_time": "2024-06-20T17:21:20.954810Z"
    }
   },
   "cell_type": "code",
   "source": [
    "import pytest\n",
    "\n",
    "@pytest.fixture(scope=\"session\")\n",
    "def workspace(tmp_path_factory):\n",
    "    return workspace.Workspace(tmp_path_factory)\n",
    "\n",
    "def run_tests():\n",
    "    # Путь к файлу с тестами\n",
    "    test_file = '../tests/pytest_decoder.py'\n",
    "    \n",
    "    pytest.main(['-v', '-p', 'no:warnings', test_file])\n",
    "\n",
    "run_tests()"
   ],
   "id": "4937bf0249a9a2d",
   "outputs": [
    {
     "name": "stdout",
     "output_type": "stream",
     "text": [
      "\u001B[1m============================= test session starts =============================\u001B[0m\n",
      "platform win32 -- Python 3.12.3, pytest-8.2.1, pluggy-1.5.0 -- C:\\Users\\User\\PycharmProjects\\YadroTest\\.venv\\Scripts\\python.exe\n",
      "cachedir: .pytest_cache\n",
      "rootdir: C:\\Users\\User\\PycharmProjects\\YadroTest\n",
      "plugins: anyio-4.4.0\n",
      "\u001B[1mcollecting ... \u001B[0mcollected 5 items\n",
      "\n",
      "..\\tests\\pytest_decoder.py::test_read_json_format_strings \u001B[32mPASSED\u001B[0m\u001B[32m         [ 20%]\u001B[0m\n",
      "..\\tests\\pytest_decoder.py::test_crc8_check \u001B[32mPASSED\u001B[0m\u001B[32m                       [ 40%]\u001B[0m\n",
      "..\\tests\\pytest_decoder.py::test_parse_arguments \u001B[32mPASSED\u001B[0m\u001B[32m                  [ 60%]\u001B[0m\n",
      "..\\tests\\pytest_decoder.py::test_parse_binary_log_file \u001B[32mPASSED\u001B[0m\u001B[32m            [ 80%]\u001B[0m\n",
      "..\\tests\\pytest_decoder.py::test_main \u001B[32mPASSED\u001B[0m\u001B[32m                             [100%]\u001B[0m\n",
      "\n",
      "\u001B[32m============================== \u001B[32m\u001B[1m5 passed\u001B[0m\u001B[32m in 0.04s\u001B[0m\u001B[32m ==============================\u001B[0m\n"
     ]
    }
   ],
   "execution_count": 2
  }
 ],
 "metadata": {
  "kernelspec": {
   "display_name": "Python 3",
   "language": "python",
   "name": "python3"
  },
  "language_info": {
   "codemirror_mode": {
    "name": "ipython",
    "version": 2
   },
   "file_extension": ".py",
   "mimetype": "text/x-python",
   "name": "python",
   "nbconvert_exporter": "python",
   "pygments_lexer": "ipython2",
   "version": "2.7.6"
  }
 },
 "nbformat": 4,
 "nbformat_minor": 5
}
